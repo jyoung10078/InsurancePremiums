{
 "cells": [
  {
   "cell_type": "markdown",
   "metadata": {},
   "source": [
    "# Main Analysis"
   ]
  },
  {
   "cell_type": "code",
   "execution_count": 1,
   "metadata": {},
   "outputs": [],
   "source": [
    "# Libraries\n",
    "import numpy as np \n",
    "import pandas as pd\n",
    "import HelperClass as hc \n",
    "from IPython.display import display, HTML\n"
   ]
  },
  {
   "cell_type": "code",
   "execution_count": 2,
   "metadata": {},
   "outputs": [
    {
     "data": {
      "text/html": [
       "<div>\n",
       "<style scoped>\n",
       "    .dataframe tbody tr th:only-of-type {\n",
       "        vertical-align: middle;\n",
       "    }\n",
       "\n",
       "    .dataframe tbody tr th {\n",
       "        vertical-align: top;\n",
       "    }\n",
       "\n",
       "    .dataframe thead th {\n",
       "        text-align: right;\n",
       "    }\n",
       "</style>\n",
       "<table border=\"1\" class=\"dataframe\">\n",
       "  <thead>\n",
       "    <tr style=\"text-align: right;\">\n",
       "      <th></th>\n",
       "      <th>age</th>\n",
       "      <th>sex</th>\n",
       "      <th>bmi</th>\n",
       "      <th>children</th>\n",
       "      <th>smoker</th>\n",
       "      <th>region</th>\n",
       "      <th>charges</th>\n",
       "    </tr>\n",
       "  </thead>\n",
       "  <tbody>\n",
       "    <tr>\n",
       "      <th>0</th>\n",
       "      <td>19</td>\n",
       "      <td>female</td>\n",
       "      <td>27.900</td>\n",
       "      <td>0</td>\n",
       "      <td>yes</td>\n",
       "      <td>southwest</td>\n",
       "      <td>16884.92400</td>\n",
       "    </tr>\n",
       "    <tr>\n",
       "      <th>1</th>\n",
       "      <td>18</td>\n",
       "      <td>male</td>\n",
       "      <td>33.770</td>\n",
       "      <td>1</td>\n",
       "      <td>no</td>\n",
       "      <td>southeast</td>\n",
       "      <td>1725.55230</td>\n",
       "    </tr>\n",
       "    <tr>\n",
       "      <th>2</th>\n",
       "      <td>28</td>\n",
       "      <td>male</td>\n",
       "      <td>33.000</td>\n",
       "      <td>3</td>\n",
       "      <td>no</td>\n",
       "      <td>southeast</td>\n",
       "      <td>4449.46200</td>\n",
       "    </tr>\n",
       "    <tr>\n",
       "      <th>3</th>\n",
       "      <td>33</td>\n",
       "      <td>male</td>\n",
       "      <td>22.705</td>\n",
       "      <td>0</td>\n",
       "      <td>no</td>\n",
       "      <td>northwest</td>\n",
       "      <td>21984.47061</td>\n",
       "    </tr>\n",
       "    <tr>\n",
       "      <th>4</th>\n",
       "      <td>32</td>\n",
       "      <td>male</td>\n",
       "      <td>28.880</td>\n",
       "      <td>0</td>\n",
       "      <td>no</td>\n",
       "      <td>northwest</td>\n",
       "      <td>3866.85520</td>\n",
       "    </tr>\n",
       "  </tbody>\n",
       "</table>\n",
       "</div>"
      ],
      "text/plain": [
       "   age     sex     bmi  children smoker     region      charges\n",
       "0   19  female  27.900         0    yes  southwest  16884.92400\n",
       "1   18    male  33.770         1     no  southeast   1725.55230\n",
       "2   28    male  33.000         3     no  southeast   4449.46200\n",
       "3   33    male  22.705         0     no  northwest  21984.47061\n",
       "4   32    male  28.880         0     no  northwest   3866.85520"
      ]
     },
     "execution_count": 2,
     "metadata": {},
     "output_type": "execute_result"
    }
   ],
   "source": [
    "data = pd.read_csv('./data/premiums_data.csv')\n",
    "data.head()"
   ]
  },
  {
   "cell_type": "code",
   "execution_count": 3,
   "metadata": {},
   "outputs": [
    {
     "name": "stdout",
     "output_type": "stream",
     "text": [
      "DATA EVALUATION\n",
      "Percentage of Individuals Older than 18: 0.9484304932735426\n",
      "Percentage of Females: 0.4947683109118087\n",
      "Average BMI in the sample: 30.663396860986538\n",
      "Average number of children: 1.0949177877429\n",
      "Percentage of sample that smokes: 0.20478325859491778\n",
      "Average premium charge: 13270.422265141257\n",
      "\n",
      "Regional Breakdown:\n",
      "southeast    364\n",
      "southwest    325\n",
      "northwest    325\n",
      "northeast    324\n",
      "Name: region, dtype: int64\n"
     ]
    }
   ],
   "source": [
    "print(\"DATA EVALUATION\")\n",
    "print(f\"Percentage of Individuals Older than 18: {len(data[data['age'] > 18]) / len(data)}\")\n",
    "print(f\"Percentage of Females: {len(data[data['sex'] == 'female']) / len(data)}\")\n",
    "print(f\"Average BMI in the sample: {np.mean(data['bmi'])}\")\n",
    "print(f\"Average number of children: {np.mean(data['children'])}\")\n",
    "print(f\"Percentage of sample that smokes: {len(data[data['smoker'] == 'yes']) / len(data)}\")\n",
    "print(f\"Average premium charge: {np.mean(data.charges)}\")\n",
    "print()\n",
    "print(f\"Regional Breakdown:\\n{data.region.value_counts()}\")"
   ]
  },
  {
   "cell_type": "markdown",
   "metadata": {},
   "source": [
    "Note: The dataset does seem to be very balanced in terms of region and gender. We do have some data from children (individuals under the age of 18) which should be considered differently since those would need to be family plans. Additionally, each region is not proportionately represented by the real proportions in those regions (e.g. the northeast would have significantly more people than the southwest). Lastly, the average BMI in the group is actually above what is considered healthy (18 - 25 is considered the healthy range for the average person) and 20% of our sample smokes. It's estimated that only 11% of the USA actually smokes, but the average BMI in the USA is estimated to be around 30. All this to say that our sample does appear to be a little less healthy on average, but this is roughly representative of the United States' general population"
   ]
  },
  {
   "cell_type": "code",
   "execution_count": 4,
   "metadata": {},
   "outputs": [],
   "source": [
    "my_helper = hc.HelperClass()"
   ]
  },
  {
   "cell_type": "code",
   "execution_count": 5,
   "metadata": {},
   "outputs": [
    {
     "data": {
      "image/png": "[encoded data removed]",
      "text/plain": [
       "<Figure size 800x600 with 2 Axes>"
      ]
     },
     "metadata": {},
     "output_type": "display_data"
    }
   ],
   "source": [
    "my_helper.CorrelationMatrixHeatMap(data)"
   ]
  },
  {
   "cell_type": "code",
   "execution_count": 6,
   "metadata": {},
   "outputs": [
    {
     "data": {
      "text/html": [
       "\n",
       "        <h1>General Model Including All Regions</h1>\n",
       "        <h2>Linear Regression Model Summary</h2>\n",
       "        <p><b>Mean Squared Error:</b> 131201335.65</p>\n",
       "        <p><b>R-squared:</b> 0.1549</p>\n",
       "        <p><b>Regression Equation:</b></p>\n",
       "        <p>Insurance Premium =  220.76(age) + 332.20(bmi) + 563.02(children) + -6118.05</p>\n",
       "        "
      ],
      "text/plain": [
       "<IPython.core.display.HTML object>"
      ]
     },
     "metadata": {},
     "output_type": "display_data"
    }
   ],
   "source": [
    "# General Linear Regression Model\n",
    "independent_vars = ['age', 'bmi', 'children']\n",
    "dependent_var = ['charges']\n",
    "X_train, X_test, y_train, y_test = my_helper.DataSplitter(data, independent_vars, dependent_var, 0.2)\n",
    "model_output = my_helper.LinearRegressionFitter(X_train, y_train, X_test, y_test)\n",
    "my_model = model_output['model']\n",
    "mse = model_output['mse']\n",
    "r2 = model_output['r2']\n",
    "header = \"General Model Including All Regions\"\n",
    "my_helper.ModelSummaryStats(my_model, mse, r2, header, independent_vars)"
   ]
  },
  {
   "cell_type": "code",
   "execution_count": 7,
   "metadata": {},
   "outputs": [
    {
     "data": {
      "text/html": [
       "\n",
       "        <h1>General Model Including All Regions</h1>\n",
       "        <h2>Linear Regression Model Summary</h2>\n",
       "        <p><b>Mean Squared Error:</b> 130473257.45</p>\n",
       "        <p><b>R-squared:</b> 0.1596</p>\n",
       "        <p><b>Regression Equation:</b></p>\n",
       "        <p>Insurance Premium =  222.60(age) + 323.64(bmi) + 572.94(children) + 629.20(region_northeast) + -428.02(region_northwest) + 670.61(region_southeast) + -871.79(region_southwest) + -5956.92</p>\n",
       "        "
      ],
      "text/plain": [
       "<IPython.core.display.HTML object>"
      ]
     },
     "metadata": {},
     "output_type": "display_data"
    }
   ],
   "source": [
    "# One-hot encode the 'region' column\n",
    "data_encoded = pd.get_dummies(data, columns=['region'])\n",
    "independent_vars = ['age', 'bmi', 'children', 'region_northeast', 'region_northwest', 'region_southeast', 'region_southwest']\n",
    "dependent_var = ['charges']\n",
    "X_train, X_test, y_train, y_test = my_helper.DataSplitter(data_encoded, independent_vars, dependent_var, 0.2)\n",
    "model_output = my_helper.LinearRegressionFitter(X_train, y_train, X_test, y_test)\n",
    "my_model = model_output['model']\n",
    "mse = model_output['mse']\n",
    "r2 = model_output['r2']\n",
    "header = \"General Model Including All Regions\"\n",
    "my_helper.ModelSummaryStats(my_model, mse, r2, header, independent_vars)\n"
   ]
  },
  {
   "cell_type": "code",
   "execution_count": 8,
   "metadata": {},
   "outputs": [
    {
     "data": {
      "text/html": [
       "\n",
       "        <h1>Northeast Model Including All Regions</h1>\n",
       "        <h2>Linear Regression Model Summary</h2>\n",
       "        <p><b>Mean Squared Error:</b> 132236878.78</p>\n",
       "        <p><b>R-squared:</b> 0.1456</p>\n",
       "        <p><b>Regression Equation:</b></p>\n",
       "        <p>Insurance Premium =  178.10(age) + 397.21(bmi) + 378.67(children) + -5873.91</p>\n",
       "        "
      ],
      "text/plain": [
       "<IPython.core.display.HTML object>"
      ]
     },
     "metadata": {},
     "output_type": "display_data"
    },
    {
     "data": {
      "text/html": [
       "\n",
       "        <h1>Northwest Model Including All Regions</h1>\n",
       "        <h2>Linear Regression Model Summary</h2>\n",
       "        <p><b>Mean Squared Error:</b> 73436985.00</p>\n",
       "        <p><b>R-squared:</b> 0.0903</p>\n",
       "        <p><b>Regression Equation:</b></p>\n",
       "        <p>Insurance Premium =  263.77(age) + 322.70(bmi) + 1106.49(children) + -8273.46</p>\n",
       "        "
      ],
      "text/plain": [
       "<IPython.core.display.HTML object>"
      ]
     },
     "metadata": {},
     "output_type": "display_data"
    },
    {
     "data": {
      "text/html": [
       "\n",
       "        <h1>Southeast Model Including All Regions</h1>\n",
       "        <h2>Linear Regression Model Summary</h2>\n",
       "        <p><b>Mean Squared Error:</b> 134182236.11</p>\n",
       "        <p><b>R-squared:</b> 0.1159</p>\n",
       "        <p><b>Regression Equation:</b></p>\n",
       "        <p>Insurance Premium =  284.05(age) + 305.07(bmi) + -7.80(children) + -5847.44</p>\n",
       "        "
      ],
      "text/plain": [
       "<IPython.core.display.HTML object>"
      ]
     },
     "metadata": {},
     "output_type": "display_data"
    },
    {
     "data": {
      "text/html": [
       "\n",
       "        <h1>Southwest Model Including All Regions</h1>\n",
       "        <h2>Linear Regression Model Summary</h2>\n",
       "        <p><b>Mean Squared Error:</b> 160426769.01</p>\n",
       "        <p><b>R-squared:</b> 0.0588</p>\n",
       "        <p><b>Regression Equation:</b></p>\n",
       "        <p>Insurance Premium =  204.10(age) + 221.59(bmi) + 202.42(children) + -3173.86</p>\n",
       "        "
      ],
      "text/plain": [
       "<IPython.core.display.HTML object>"
      ]
     },
     "metadata": {},
     "output_type": "display_data"
    }
   ],
   "source": [
    "# Region Specific Linear Models\n",
    "regions = ['Northeast', 'Northwest', 'Southeast', 'Southwest']\n",
    "independent_vars = ['age', 'bmi', 'children']\n",
    "dependent_var = ['charges']\n",
    "\n",
    "for region in regions: \n",
    "    X_train, X_test, y_train, y_test = my_helper.DataSplitter(data[data['region'] == f'{region.lower()}'], independent_vars, dependent_var, 0.2)\n",
    "    model_output = my_helper.LinearRegressionFitter(X_train, y_train, X_test, y_test)\n",
    "    my_model = model_output['model']\n",
    "    mse = model_output['mse']\n",
    "    r2 = model_output['r2']\n",
    "    header = f\"{region} Model Including All Regions\"\n",
    "    my_helper.ModelSummaryStats(my_model, mse, r2, header, independent_vars)\n"
   ]
  },
  {
   "cell_type": "code",
   "execution_count": 22,
   "metadata": {},
   "outputs": [
    {
     "name": "stderr",
     "output_type": "stream",
     "text": [
      "c:\\Users\\jar5395\\anaconda3\\lib\\site-packages\\sklearn\\base.py:450: UserWarning: X does not have valid feature names, but LinearRegression was fitted with feature names\n",
      "  warnings.warn(\n"
     ]
    },
    {
     "data": {
      "text/plain": [
       "14402.59534972185"
      ]
     },
     "execution_count": 22,
     "metadata": {},
     "output_type": "execute_result"
    }
   ],
   "source": [
    "my_helper.PremiumPredictorWidget()"
   ]
  }
 ],
 "metadata": {
  "kernelspec": {
   "display_name": "base",
   "language": "python",
   "name": "python3"
  },
  "language_info": {
   "codemirror_mode": {
    "name": "ipython",
    "version": 3
   },
   "file_extension": ".py",
   "mimetype": "text/x-python",
   "name": "python",
   "nbconvert_exporter": "python",
   "pygments_lexer": "ipython3",
   "version": "3.9.13"
  }
 },
 "nbformat": 4,
 "nbformat_minor": 2
}
